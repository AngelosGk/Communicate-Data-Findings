{
 "cells": [
  {
   "cell_type": "markdown",
   "metadata": {
    "slideshow": {
     "slide_type": "slide"
    }
   },
   "source": [
    "# Communicate Data findings\n",
    "\n",
    "\n",
    "## Table of Contents\n",
    "<ul>\n",
    "<li><a href=\"#intro\">Introduction</a></li>\n",
    "<li><a href=\"#Dis\">Univariate Exploration.</a></li>     \n",
    "<li><a href=\"#pric\">Bivariate Exploration</a></li>\n",
    "<li><a href=\"#pricc\">Multivariate Exploration.</a></li>\n",
    "</ul>\n"
   ]
  },
  {
   "cell_type": "markdown",
   "metadata": {
    "slideshow": {
     "slide_type": "slide"
    }
   },
   "source": [
    "<a id='intro'></a>\n",
    "## Introduction"
   ]
  },
  {
   "cell_type": "markdown",
   "metadata": {
    "slideshow": {
     "slide_type": "slide"
    }
   },
   "source": [
    "This project explore the mobile Apps that users prefer. This dataset is consisted by variables that help us to reach in plenty of conclusions about what make users spend more money. This dataset  being obtaining from free Kaggle datasets called Mobile App Store in CSV format file. \n",
    "\tBelow we can see the exact meaning of column names.\n",
    "    1.  \"id\" : App ID\n",
    "    2.  \"track_name\": App Name\n",
    "    3.  \"size_bytes\": Size (in Bytes)\n",
    "    4.  \"currency\": Currency Type\n",
    "    5.  \"price\": Price amount\n",
    "    6.  \"user_rating\" : Average User Rating value (for all version)\n",
    "    7.  \"userratingver\": Average User Rating value (for current version)\n",
    "    8.  \"prime_genre\": Primary Genre\n",
    "    9.  \"sup_devices.num\": Number of supporting devices\n",
    "    10. \"lang.num\": Number of supported languages"
   ]
  },
  {
   "cell_type": "code",
   "execution_count": 330,
   "metadata": {
    "slideshow": {
     "slide_type": "skip"
    }
   },
   "outputs": [],
   "source": [
    "# import all packages and set plots to be embedded inline\n",
    "import numpy as np\n",
    "import pandas as pd\n",
    "import matplotlib.pyplot as plt\n",
    "import seaborn as sb\n",
    "\n",
    "%matplotlib inline"
   ]
  },
  {
   "cell_type": "code",
   "execution_count": 331,
   "metadata": {
    "slideshow": {
     "slide_type": "slide"
    }
   },
   "outputs": [
    {
     "data": {
      "text/html": [
       "<div>\n",
       "<style scoped>\n",
       "    .dataframe tbody tr th:only-of-type {\n",
       "        vertical-align: middle;\n",
       "    }\n",
       "\n",
       "    .dataframe tbody tr th {\n",
       "        vertical-align: top;\n",
       "    }\n",
       "\n",
       "    .dataframe thead th {\n",
       "        text-align: right;\n",
       "    }\n",
       "</style>\n",
       "<table border=\"1\" class=\"dataframe\">\n",
       "  <thead>\n",
       "    <tr style=\"text-align: right;\">\n",
       "      <th></th>\n",
       "      <th>Unnamed: 0</th>\n",
       "      <th>id</th>\n",
       "      <th>track_name</th>\n",
       "      <th>size_bytes</th>\n",
       "      <th>currency</th>\n",
       "      <th>price</th>\n",
       "      <th>rating_count_tot</th>\n",
       "      <th>rating_count_ver</th>\n",
       "      <th>user_rating</th>\n",
       "      <th>user_rating_ver</th>\n",
       "      <th>ver</th>\n",
       "      <th>cont_rating</th>\n",
       "      <th>prime_genre</th>\n",
       "      <th>sup_devices.num</th>\n",
       "      <th>ipadSc_urls.num</th>\n",
       "      <th>lang.num</th>\n",
       "      <th>vpp_lic</th>\n",
       "    </tr>\n",
       "  </thead>\n",
       "  <tbody>\n",
       "    <tr>\n",
       "      <th>0</th>\n",
       "      <td>1</td>\n",
       "      <td>281656475</td>\n",
       "      <td>PAC-MAN Premium</td>\n",
       "      <td>100788224</td>\n",
       "      <td>USD</td>\n",
       "      <td>3.99</td>\n",
       "      <td>21292</td>\n",
       "      <td>26</td>\n",
       "      <td>4.0</td>\n",
       "      <td>4.5</td>\n",
       "      <td>6.3.5</td>\n",
       "      <td>4+</td>\n",
       "      <td>Games</td>\n",
       "      <td>38</td>\n",
       "      <td>5</td>\n",
       "      <td>10</td>\n",
       "      <td>1</td>\n",
       "    </tr>\n",
       "    <tr>\n",
       "      <th>1</th>\n",
       "      <td>2</td>\n",
       "      <td>281796108</td>\n",
       "      <td>Evernote - stay organized</td>\n",
       "      <td>158578688</td>\n",
       "      <td>USD</td>\n",
       "      <td>0.00</td>\n",
       "      <td>161065</td>\n",
       "      <td>26</td>\n",
       "      <td>4.0</td>\n",
       "      <td>3.5</td>\n",
       "      <td>8.2.2</td>\n",
       "      <td>4+</td>\n",
       "      <td>Productivity</td>\n",
       "      <td>37</td>\n",
       "      <td>5</td>\n",
       "      <td>23</td>\n",
       "      <td>1</td>\n",
       "    </tr>\n",
       "    <tr>\n",
       "      <th>2</th>\n",
       "      <td>3</td>\n",
       "      <td>281940292</td>\n",
       "      <td>WeatherBug - Local Weather, Radar, Maps, Alerts</td>\n",
       "      <td>100524032</td>\n",
       "      <td>USD</td>\n",
       "      <td>0.00</td>\n",
       "      <td>188583</td>\n",
       "      <td>2822</td>\n",
       "      <td>3.5</td>\n",
       "      <td>4.5</td>\n",
       "      <td>5.0.0</td>\n",
       "      <td>4+</td>\n",
       "      <td>Weather</td>\n",
       "      <td>37</td>\n",
       "      <td>5</td>\n",
       "      <td>3</td>\n",
       "      <td>1</td>\n",
       "    </tr>\n",
       "    <tr>\n",
       "      <th>3</th>\n",
       "      <td>4</td>\n",
       "      <td>282614216</td>\n",
       "      <td>eBay: Best App to Buy, Sell, Save! Online Shop...</td>\n",
       "      <td>128512000</td>\n",
       "      <td>USD</td>\n",
       "      <td>0.00</td>\n",
       "      <td>262241</td>\n",
       "      <td>649</td>\n",
       "      <td>4.0</td>\n",
       "      <td>4.5</td>\n",
       "      <td>5.10.0</td>\n",
       "      <td>12+</td>\n",
       "      <td>Shopping</td>\n",
       "      <td>37</td>\n",
       "      <td>5</td>\n",
       "      <td>9</td>\n",
       "      <td>1</td>\n",
       "    </tr>\n",
       "    <tr>\n",
       "      <th>4</th>\n",
       "      <td>5</td>\n",
       "      <td>282935706</td>\n",
       "      <td>Bible</td>\n",
       "      <td>92774400</td>\n",
       "      <td>USD</td>\n",
       "      <td>0.00</td>\n",
       "      <td>985920</td>\n",
       "      <td>5320</td>\n",
       "      <td>4.5</td>\n",
       "      <td>5.0</td>\n",
       "      <td>7.5.1</td>\n",
       "      <td>4+</td>\n",
       "      <td>Reference</td>\n",
       "      <td>37</td>\n",
       "      <td>5</td>\n",
       "      <td>45</td>\n",
       "      <td>1</td>\n",
       "    </tr>\n",
       "    <tr>\n",
       "      <th>...</th>\n",
       "      <td>...</td>\n",
       "      <td>...</td>\n",
       "      <td>...</td>\n",
       "      <td>...</td>\n",
       "      <td>...</td>\n",
       "      <td>...</td>\n",
       "      <td>...</td>\n",
       "      <td>...</td>\n",
       "      <td>...</td>\n",
       "      <td>...</td>\n",
       "      <td>...</td>\n",
       "      <td>...</td>\n",
       "      <td>...</td>\n",
       "      <td>...</td>\n",
       "      <td>...</td>\n",
       "      <td>...</td>\n",
       "      <td>...</td>\n",
       "    </tr>\n",
       "    <tr>\n",
       "      <th>7192</th>\n",
       "      <td>11081</td>\n",
       "      <td>1187617475</td>\n",
       "      <td>Kubik</td>\n",
       "      <td>126644224</td>\n",
       "      <td>USD</td>\n",
       "      <td>0.00</td>\n",
       "      <td>142</td>\n",
       "      <td>75</td>\n",
       "      <td>4.5</td>\n",
       "      <td>4.5</td>\n",
       "      <td>1.3</td>\n",
       "      <td>4+</td>\n",
       "      <td>Games</td>\n",
       "      <td>38</td>\n",
       "      <td>5</td>\n",
       "      <td>1</td>\n",
       "      <td>1</td>\n",
       "    </tr>\n",
       "    <tr>\n",
       "      <th>7193</th>\n",
       "      <td>11082</td>\n",
       "      <td>1187682390</td>\n",
       "      <td>VR Roller-Coaster</td>\n",
       "      <td>120760320</td>\n",
       "      <td>USD</td>\n",
       "      <td>0.00</td>\n",
       "      <td>30</td>\n",
       "      <td>30</td>\n",
       "      <td>4.5</td>\n",
       "      <td>4.5</td>\n",
       "      <td>0.9</td>\n",
       "      <td>4+</td>\n",
       "      <td>Games</td>\n",
       "      <td>38</td>\n",
       "      <td>0</td>\n",
       "      <td>1</td>\n",
       "      <td>1</td>\n",
       "    </tr>\n",
       "    <tr>\n",
       "      <th>7194</th>\n",
       "      <td>11087</td>\n",
       "      <td>1187779532</td>\n",
       "      <td>Bret Michaels Emojis + Lyric Keyboard</td>\n",
       "      <td>111322112</td>\n",
       "      <td>USD</td>\n",
       "      <td>1.99</td>\n",
       "      <td>15</td>\n",
       "      <td>0</td>\n",
       "      <td>4.5</td>\n",
       "      <td>0.0</td>\n",
       "      <td>1.0.2</td>\n",
       "      <td>9+</td>\n",
       "      <td>Utilities</td>\n",
       "      <td>37</td>\n",
       "      <td>1</td>\n",
       "      <td>1</td>\n",
       "      <td>1</td>\n",
       "    </tr>\n",
       "    <tr>\n",
       "      <th>7195</th>\n",
       "      <td>11089</td>\n",
       "      <td>1187838770</td>\n",
       "      <td>VR Roller Coaster World - Virtual Reality</td>\n",
       "      <td>97235968</td>\n",
       "      <td>USD</td>\n",
       "      <td>0.00</td>\n",
       "      <td>85</td>\n",
       "      <td>32</td>\n",
       "      <td>4.5</td>\n",
       "      <td>4.5</td>\n",
       "      <td>1.0.15</td>\n",
       "      <td>12+</td>\n",
       "      <td>Games</td>\n",
       "      <td>38</td>\n",
       "      <td>0</td>\n",
       "      <td>2</td>\n",
       "      <td>1</td>\n",
       "    </tr>\n",
       "    <tr>\n",
       "      <th>7196</th>\n",
       "      <td>11097</td>\n",
       "      <td>1188375727</td>\n",
       "      <td>Escape the Sweet Shop Series</td>\n",
       "      <td>90898432</td>\n",
       "      <td>USD</td>\n",
       "      <td>0.00</td>\n",
       "      <td>3</td>\n",
       "      <td>3</td>\n",
       "      <td>5.0</td>\n",
       "      <td>5.0</td>\n",
       "      <td>1.0</td>\n",
       "      <td>4+</td>\n",
       "      <td>Games</td>\n",
       "      <td>40</td>\n",
       "      <td>0</td>\n",
       "      <td>2</td>\n",
       "      <td>1</td>\n",
       "    </tr>\n",
       "  </tbody>\n",
       "</table>\n",
       "<p>7197 rows × 17 columns</p>\n",
       "</div>"
      ],
      "text/plain": [
       "      Unnamed: 0          id  \\\n",
       "0              1   281656475   \n",
       "1              2   281796108   \n",
       "2              3   281940292   \n",
       "3              4   282614216   \n",
       "4              5   282935706   \n",
       "...          ...         ...   \n",
       "7192       11081  1187617475   \n",
       "7193       11082  1187682390   \n",
       "7194       11087  1187779532   \n",
       "7195       11089  1187838770   \n",
       "7196       11097  1188375727   \n",
       "\n",
       "                                             track_name  size_bytes currency  \\\n",
       "0                                       PAC-MAN Premium   100788224      USD   \n",
       "1                             Evernote - stay organized   158578688      USD   \n",
       "2       WeatherBug - Local Weather, Radar, Maps, Alerts   100524032      USD   \n",
       "3     eBay: Best App to Buy, Sell, Save! Online Shop...   128512000      USD   \n",
       "4                                                 Bible    92774400      USD   \n",
       "...                                                 ...         ...      ...   \n",
       "7192                                              Kubik   126644224      USD   \n",
       "7193                                  VR Roller-Coaster   120760320      USD   \n",
       "7194              Bret Michaels Emojis + Lyric Keyboard   111322112      USD   \n",
       "7195          VR Roller Coaster World - Virtual Reality    97235968      USD   \n",
       "7196                       Escape the Sweet Shop Series    90898432      USD   \n",
       "\n",
       "      price  rating_count_tot  rating_count_ver  user_rating  user_rating_ver  \\\n",
       "0      3.99             21292                26          4.0              4.5   \n",
       "1      0.00            161065                26          4.0              3.5   \n",
       "2      0.00            188583              2822          3.5              4.5   \n",
       "3      0.00            262241               649          4.0              4.5   \n",
       "4      0.00            985920              5320          4.5              5.0   \n",
       "...     ...               ...               ...          ...              ...   \n",
       "7192   0.00               142                75          4.5              4.5   \n",
       "7193   0.00                30                30          4.5              4.5   \n",
       "7194   1.99                15                 0          4.5              0.0   \n",
       "7195   0.00                85                32          4.5              4.5   \n",
       "7196   0.00                 3                 3          5.0              5.0   \n",
       "\n",
       "         ver cont_rating   prime_genre  sup_devices.num  ipadSc_urls.num  \\\n",
       "0      6.3.5          4+         Games               38                5   \n",
       "1      8.2.2          4+  Productivity               37                5   \n",
       "2      5.0.0          4+       Weather               37                5   \n",
       "3     5.10.0         12+      Shopping               37                5   \n",
       "4      7.5.1          4+     Reference               37                5   \n",
       "...      ...         ...           ...              ...              ...   \n",
       "7192     1.3          4+         Games               38                5   \n",
       "7193     0.9          4+         Games               38                0   \n",
       "7194   1.0.2          9+     Utilities               37                1   \n",
       "7195  1.0.15         12+         Games               38                0   \n",
       "7196     1.0          4+         Games               40                0   \n",
       "\n",
       "      lang.num  vpp_lic  \n",
       "0           10        1  \n",
       "1           23        1  \n",
       "2            3        1  \n",
       "3            9        1  \n",
       "4           45        1  \n",
       "...        ...      ...  \n",
       "7192         1        1  \n",
       "7193         1        1  \n",
       "7194         1        1  \n",
       "7195         2        1  \n",
       "7196         2        1  \n",
       "\n",
       "[7197 rows x 17 columns]"
      ]
     },
     "execution_count": 331,
     "metadata": {},
     "output_type": "execute_result"
    }
   ],
   "source": [
    "df = pd.read_csv('AppleStore.csv')\n",
    "df"
   ]
  },
  {
   "cell_type": "markdown",
   "metadata": {
    "slideshow": {
     "slide_type": "skip"
    }
   },
   "source": [
    "This dataset is consisted by 7197 rows × 17 columns."
   ]
  },
  {
   "cell_type": "code",
   "execution_count": 332,
   "metadata": {
    "slideshow": {
     "slide_type": "skip"
    }
   },
   "outputs": [
    {
     "name": "stdout",
     "output_type": "stream",
     "text": [
      "<class 'pandas.core.frame.DataFrame'>\n",
      "RangeIndex: 7197 entries, 0 to 7196\n",
      "Data columns (total 17 columns):\n",
      " #   Column            Non-Null Count  Dtype  \n",
      "---  ------            --------------  -----  \n",
      " 0   Unnamed: 0        7197 non-null   int64  \n",
      " 1   id                7197 non-null   int64  \n",
      " 2   track_name        7197 non-null   object \n",
      " 3   size_bytes        7197 non-null   int64  \n",
      " 4   currency          7197 non-null   object \n",
      " 5   price             7197 non-null   float64\n",
      " 6   rating_count_tot  7197 non-null   int64  \n",
      " 7   rating_count_ver  7197 non-null   int64  \n",
      " 8   user_rating       7197 non-null   float64\n",
      " 9   user_rating_ver   7197 non-null   float64\n",
      " 10  ver               7197 non-null   object \n",
      " 11  cont_rating       7197 non-null   object \n",
      " 12  prime_genre       7197 non-null   object \n",
      " 13  sup_devices.num   7197 non-null   int64  \n",
      " 14  ipadSc_urls.num   7197 non-null   int64  \n",
      " 15  lang.num          7197 non-null   int64  \n",
      " 16  vpp_lic           7197 non-null   int64  \n",
      "dtypes: float64(3), int64(9), object(5)\n",
      "memory usage: 956.0+ KB\n"
     ]
    }
   ],
   "source": [
    "#Checking for nulls\n",
    "df.info()"
   ]
  },
  {
   "cell_type": "code",
   "execution_count": 333,
   "metadata": {
    "slideshow": {
     "slide_type": "skip"
    }
   },
   "outputs": [
    {
     "name": "stdout",
     "output_type": "stream",
     "text": [
      "Unnamed: 0            int64\n",
      "id                    int64\n",
      "track_name           object\n",
      "size_bytes            int64\n",
      "currency             object\n",
      "price               float64\n",
      "rating_count_tot      int64\n",
      "rating_count_ver      int64\n",
      "user_rating         float64\n",
      "user_rating_ver     float64\n",
      "ver                  object\n",
      "cont_rating          object\n",
      "prime_genre          object\n",
      "sup_devices.num       int64\n",
      "ipadSc_urls.num       int64\n",
      "lang.num              int64\n",
      "vpp_lic               int64\n",
      "dtype: object\n"
     ]
    }
   ],
   "source": [
    "#Check  for wrong data types\n",
    "print(df.dtypes)"
   ]
  },
  {
   "cell_type": "code",
   "execution_count": 334,
   "metadata": {
    "slideshow": {
     "slide_type": "skip"
    }
   },
   "outputs": [
    {
     "data": {
      "text/html": [
       "<div>\n",
       "<style scoped>\n",
       "    .dataframe tbody tr th:only-of-type {\n",
       "        vertical-align: middle;\n",
       "    }\n",
       "\n",
       "    .dataframe tbody tr th {\n",
       "        vertical-align: top;\n",
       "    }\n",
       "\n",
       "    .dataframe thead th {\n",
       "        text-align: right;\n",
       "    }\n",
       "</style>\n",
       "<table border=\"1\" class=\"dataframe\">\n",
       "  <thead>\n",
       "    <tr style=\"text-align: right;\">\n",
       "      <th></th>\n",
       "      <th>Unnamed: 0</th>\n",
       "      <th>id</th>\n",
       "      <th>size_bytes</th>\n",
       "      <th>price</th>\n",
       "      <th>rating_count_tot</th>\n",
       "      <th>rating_count_ver</th>\n",
       "      <th>user_rating</th>\n",
       "      <th>user_rating_ver</th>\n",
       "      <th>sup_devices.num</th>\n",
       "      <th>ipadSc_urls.num</th>\n",
       "      <th>lang.num</th>\n",
       "      <th>vpp_lic</th>\n",
       "    </tr>\n",
       "  </thead>\n",
       "  <tbody>\n",
       "    <tr>\n",
       "      <th>count</th>\n",
       "      <td>7197.000000</td>\n",
       "      <td>7.197000e+03</td>\n",
       "      <td>7.197000e+03</td>\n",
       "      <td>7197.000000</td>\n",
       "      <td>7.197000e+03</td>\n",
       "      <td>7197.000000</td>\n",
       "      <td>7197.000000</td>\n",
       "      <td>7197.000000</td>\n",
       "      <td>7197.000000</td>\n",
       "      <td>7197.000000</td>\n",
       "      <td>7197.000000</td>\n",
       "      <td>7197.000000</td>\n",
       "    </tr>\n",
       "    <tr>\n",
       "      <th>mean</th>\n",
       "      <td>4759.069612</td>\n",
       "      <td>8.631310e+08</td>\n",
       "      <td>1.991345e+08</td>\n",
       "      <td>1.726218</td>\n",
       "      <td>1.289291e+04</td>\n",
       "      <td>460.373906</td>\n",
       "      <td>3.526956</td>\n",
       "      <td>3.253578</td>\n",
       "      <td>37.361817</td>\n",
       "      <td>3.707100</td>\n",
       "      <td>5.434903</td>\n",
       "      <td>0.993053</td>\n",
       "    </tr>\n",
       "    <tr>\n",
       "      <th>std</th>\n",
       "      <td>3093.625213</td>\n",
       "      <td>2.712368e+08</td>\n",
       "      <td>3.592069e+08</td>\n",
       "      <td>5.833006</td>\n",
       "      <td>7.573941e+04</td>\n",
       "      <td>3920.455183</td>\n",
       "      <td>1.517948</td>\n",
       "      <td>1.809363</td>\n",
       "      <td>3.737715</td>\n",
       "      <td>1.986005</td>\n",
       "      <td>7.919593</td>\n",
       "      <td>0.083066</td>\n",
       "    </tr>\n",
       "    <tr>\n",
       "      <th>min</th>\n",
       "      <td>1.000000</td>\n",
       "      <td>2.816565e+08</td>\n",
       "      <td>5.898240e+05</td>\n",
       "      <td>0.000000</td>\n",
       "      <td>0.000000e+00</td>\n",
       "      <td>0.000000</td>\n",
       "      <td>0.000000</td>\n",
       "      <td>0.000000</td>\n",
       "      <td>9.000000</td>\n",
       "      <td>0.000000</td>\n",
       "      <td>0.000000</td>\n",
       "      <td>0.000000</td>\n",
       "    </tr>\n",
       "    <tr>\n",
       "      <th>25%</th>\n",
       "      <td>2090.000000</td>\n",
       "      <td>6.000937e+08</td>\n",
       "      <td>4.692275e+07</td>\n",
       "      <td>0.000000</td>\n",
       "      <td>2.800000e+01</td>\n",
       "      <td>1.000000</td>\n",
       "      <td>3.500000</td>\n",
       "      <td>2.500000</td>\n",
       "      <td>37.000000</td>\n",
       "      <td>3.000000</td>\n",
       "      <td>1.000000</td>\n",
       "      <td>1.000000</td>\n",
       "    </tr>\n",
       "    <tr>\n",
       "      <th>50%</th>\n",
       "      <td>4380.000000</td>\n",
       "      <td>9.781482e+08</td>\n",
       "      <td>9.715302e+07</td>\n",
       "      <td>0.000000</td>\n",
       "      <td>3.000000e+02</td>\n",
       "      <td>23.000000</td>\n",
       "      <td>4.000000</td>\n",
       "      <td>4.000000</td>\n",
       "      <td>37.000000</td>\n",
       "      <td>5.000000</td>\n",
       "      <td>1.000000</td>\n",
       "      <td>1.000000</td>\n",
       "    </tr>\n",
       "    <tr>\n",
       "      <th>75%</th>\n",
       "      <td>7223.000000</td>\n",
       "      <td>1.082310e+09</td>\n",
       "      <td>1.819249e+08</td>\n",
       "      <td>1.990000</td>\n",
       "      <td>2.793000e+03</td>\n",
       "      <td>140.000000</td>\n",
       "      <td>4.500000</td>\n",
       "      <td>4.500000</td>\n",
       "      <td>38.000000</td>\n",
       "      <td>5.000000</td>\n",
       "      <td>8.000000</td>\n",
       "      <td>1.000000</td>\n",
       "    </tr>\n",
       "    <tr>\n",
       "      <th>max</th>\n",
       "      <td>11097.000000</td>\n",
       "      <td>1.188376e+09</td>\n",
       "      <td>4.025970e+09</td>\n",
       "      <td>299.990000</td>\n",
       "      <td>2.974676e+06</td>\n",
       "      <td>177050.000000</td>\n",
       "      <td>5.000000</td>\n",
       "      <td>5.000000</td>\n",
       "      <td>47.000000</td>\n",
       "      <td>5.000000</td>\n",
       "      <td>75.000000</td>\n",
       "      <td>1.000000</td>\n",
       "    </tr>\n",
       "  </tbody>\n",
       "</table>\n",
       "</div>"
      ],
      "text/plain": [
       "         Unnamed: 0            id    size_bytes        price  \\\n",
       "count   7197.000000  7.197000e+03  7.197000e+03  7197.000000   \n",
       "mean    4759.069612  8.631310e+08  1.991345e+08     1.726218   \n",
       "std     3093.625213  2.712368e+08  3.592069e+08     5.833006   \n",
       "min        1.000000  2.816565e+08  5.898240e+05     0.000000   \n",
       "25%     2090.000000  6.000937e+08  4.692275e+07     0.000000   \n",
       "50%     4380.000000  9.781482e+08  9.715302e+07     0.000000   \n",
       "75%     7223.000000  1.082310e+09  1.819249e+08     1.990000   \n",
       "max    11097.000000  1.188376e+09  4.025970e+09   299.990000   \n",
       "\n",
       "       rating_count_tot  rating_count_ver  user_rating  user_rating_ver  \\\n",
       "count      7.197000e+03       7197.000000  7197.000000      7197.000000   \n",
       "mean       1.289291e+04        460.373906     3.526956         3.253578   \n",
       "std        7.573941e+04       3920.455183     1.517948         1.809363   \n",
       "min        0.000000e+00          0.000000     0.000000         0.000000   \n",
       "25%        2.800000e+01          1.000000     3.500000         2.500000   \n",
       "50%        3.000000e+02         23.000000     4.000000         4.000000   \n",
       "75%        2.793000e+03        140.000000     4.500000         4.500000   \n",
       "max        2.974676e+06     177050.000000     5.000000         5.000000   \n",
       "\n",
       "       sup_devices.num  ipadSc_urls.num     lang.num      vpp_lic  \n",
       "count      7197.000000      7197.000000  7197.000000  7197.000000  \n",
       "mean         37.361817         3.707100     5.434903     0.993053  \n",
       "std           3.737715         1.986005     7.919593     0.083066  \n",
       "min           9.000000         0.000000     0.000000     0.000000  \n",
       "25%          37.000000         3.000000     1.000000     1.000000  \n",
       "50%          37.000000         5.000000     1.000000     1.000000  \n",
       "75%          38.000000         5.000000     8.000000     1.000000  \n",
       "max          47.000000         5.000000    75.000000     1.000000  "
      ]
     },
     "execution_count": 334,
     "metadata": {},
     "output_type": "execute_result"
    }
   ],
   "source": [
    "# descriptive statistics \n",
    "df.describe()"
   ]
  },
  {
   "cell_type": "code",
   "execution_count": 335,
   "metadata": {
    "slideshow": {
     "slide_type": "subslide"
    }
   },
   "outputs": [
    {
     "data": {
      "text/html": [
       "<div>\n",
       "<style scoped>\n",
       "    .dataframe tbody tr th:only-of-type {\n",
       "        vertical-align: middle;\n",
       "    }\n",
       "\n",
       "    .dataframe tbody tr th {\n",
       "        vertical-align: top;\n",
       "    }\n",
       "\n",
       "    .dataframe thead th {\n",
       "        text-align: right;\n",
       "    }\n",
       "</style>\n",
       "<table border=\"1\" class=\"dataframe\">\n",
       "  <thead>\n",
       "    <tr style=\"text-align: right;\">\n",
       "      <th></th>\n",
       "      <th>Unnamed: 0</th>\n",
       "      <th>id</th>\n",
       "      <th>track_name</th>\n",
       "      <th>size_bytes</th>\n",
       "      <th>currency</th>\n",
       "      <th>price</th>\n",
       "      <th>user_rating</th>\n",
       "      <th>cont_rating</th>\n",
       "      <th>prime_genre</th>\n",
       "      <th>sup_devices.num</th>\n",
       "      <th>lang.num</th>\n",
       "    </tr>\n",
       "  </thead>\n",
       "  <tbody>\n",
       "    <tr>\n",
       "      <th>0</th>\n",
       "      <td>1</td>\n",
       "      <td>281656475</td>\n",
       "      <td>PAC-MAN Premium</td>\n",
       "      <td>100788224</td>\n",
       "      <td>USD</td>\n",
       "      <td>3.99</td>\n",
       "      <td>4.0</td>\n",
       "      <td>4+</td>\n",
       "      <td>Games</td>\n",
       "      <td>38</td>\n",
       "      <td>10</td>\n",
       "    </tr>\n",
       "    <tr>\n",
       "      <th>1</th>\n",
       "      <td>2</td>\n",
       "      <td>281796108</td>\n",
       "      <td>Evernote - stay organized</td>\n",
       "      <td>158578688</td>\n",
       "      <td>USD</td>\n",
       "      <td>0.00</td>\n",
       "      <td>4.0</td>\n",
       "      <td>4+</td>\n",
       "      <td>Productivity</td>\n",
       "      <td>37</td>\n",
       "      <td>23</td>\n",
       "    </tr>\n",
       "    <tr>\n",
       "      <th>2</th>\n",
       "      <td>3</td>\n",
       "      <td>281940292</td>\n",
       "      <td>WeatherBug - Local Weather, Radar, Maps, Alerts</td>\n",
       "      <td>100524032</td>\n",
       "      <td>USD</td>\n",
       "      <td>0.00</td>\n",
       "      <td>3.5</td>\n",
       "      <td>4+</td>\n",
       "      <td>Weather</td>\n",
       "      <td>37</td>\n",
       "      <td>3</td>\n",
       "    </tr>\n",
       "    <tr>\n",
       "      <th>3</th>\n",
       "      <td>4</td>\n",
       "      <td>282614216</td>\n",
       "      <td>eBay: Best App to Buy, Sell, Save! Online Shop...</td>\n",
       "      <td>128512000</td>\n",
       "      <td>USD</td>\n",
       "      <td>0.00</td>\n",
       "      <td>4.0</td>\n",
       "      <td>12+</td>\n",
       "      <td>Shopping</td>\n",
       "      <td>37</td>\n",
       "      <td>9</td>\n",
       "    </tr>\n",
       "    <tr>\n",
       "      <th>4</th>\n",
       "      <td>5</td>\n",
       "      <td>282935706</td>\n",
       "      <td>Bible</td>\n",
       "      <td>92774400</td>\n",
       "      <td>USD</td>\n",
       "      <td>0.00</td>\n",
       "      <td>4.5</td>\n",
       "      <td>4+</td>\n",
       "      <td>Reference</td>\n",
       "      <td>37</td>\n",
       "      <td>45</td>\n",
       "    </tr>\n",
       "  </tbody>\n",
       "</table>\n",
       "</div>"
      ],
      "text/plain": [
       "   Unnamed: 0         id                                         track_name  \\\n",
       "0           1  281656475                                    PAC-MAN Premium   \n",
       "1           2  281796108                          Evernote - stay organized   \n",
       "2           3  281940292    WeatherBug - Local Weather, Radar, Maps, Alerts   \n",
       "3           4  282614216  eBay: Best App to Buy, Sell, Save! Online Shop...   \n",
       "4           5  282935706                                              Bible   \n",
       "\n",
       "   size_bytes currency  price  user_rating cont_rating   prime_genre  \\\n",
       "0   100788224      USD   3.99          4.0          4+         Games   \n",
       "1   158578688      USD   0.00          4.0          4+  Productivity   \n",
       "2   100524032      USD   0.00          3.5          4+       Weather   \n",
       "3   128512000      USD   0.00          4.0         12+      Shopping   \n",
       "4    92774400      USD   0.00          4.5          4+     Reference   \n",
       "\n",
       "   sup_devices.num  lang.num  \n",
       "0               38        10  \n",
       "1               37        23  \n",
       "2               37         3  \n",
       "3               37         9  \n",
       "4               37        45  "
      ]
     },
     "execution_count": 335,
     "metadata": {},
     "output_type": "execute_result"
    }
   ],
   "source": [
    "#Drop the unneccersy columns from dataset \n",
    "df.drop(['rating_count_tot','rating_count_ver','user_rating_ver','ver','ipadSc_urls.num','vpp_lic'], axis=1, inplace=True)\n",
    "df.head()"
   ]
  },
  {
   "cell_type": "markdown",
   "metadata": {
    "slideshow": {
     "slide_type": "slide"
    }
   },
   "source": [
    "<a id='Dis'></a>\n",
    "## Univariate Exploration\n"
   ]
  },
  {
   "cell_type": "markdown",
   "metadata": {
    "slideshow": {
     "slide_type": "slide"
    }
   },
   "source": [
    "### Most popular APPS.\n",
    "I will pick the top 8 most popular APPS."
   ]
  },
  {
   "cell_type": "code",
   "execution_count": 336,
   "metadata": {
    "slideshow": {
     "slide_type": "subslide"
    }
   },
   "outputs": [
    {
     "data": {
      "text/plain": [
       "<matplotlib.axes._subplots.AxesSubplot at 0x2d849f489c8>"
      ]
     },
     "execution_count": 336,
     "metadata": {},
     "output_type": "execute_result"
    },
    {
     "data": {
      "image/png": "[encoded data removed]",
      "text/plain": [
       "<Figure size 432x288 with 1 Axes>"
      ]
     },
     "metadata": {
      "needs_background": "light"
     },
     "output_type": "display_data"
    }
   ],
   "source": [
    "base_color = sb.color_palette()[0]\n",
    "order = df['prime_genre'].value_counts().index\n",
    "sb.countplot(data = df, y = 'prime_genre', color = base_color, order = order)"
   ]
  },
  {
   "cell_type": "markdown",
   "metadata": {
    "slideshow": {
     "slide_type": "slide"
    }
   },
   "source": [
    "The most popular APPS are the games users tend to download more games that other applications."
   ]
  },
  {
   "cell_type": "markdown",
   "metadata": {
    "slideshow": {
     "slide_type": "slide"
    }
   },
   "source": [
    "### Distribution of Price in Game's Apps."
   ]
  },
  {
   "cell_type": "code",
   "execution_count": 337,
   "metadata": {
    "slideshow": {
     "slide_type": "skip"
    }
   },
   "outputs": [
    {
     "data": {
      "text/html": [
       "<div>\n",
       "<style scoped>\n",
       "    .dataframe tbody tr th:only-of-type {\n",
       "        vertical-align: middle;\n",
       "    }\n",
       "\n",
       "    .dataframe tbody tr th {\n",
       "        vertical-align: top;\n",
       "    }\n",
       "\n",
       "    .dataframe thead th {\n",
       "        text-align: right;\n",
       "    }\n",
       "</style>\n",
       "<table border=\"1\" class=\"dataframe\">\n",
       "  <thead>\n",
       "    <tr style=\"text-align: right;\">\n",
       "      <th></th>\n",
       "      <th>Unnamed: 0</th>\n",
       "      <th>id</th>\n",
       "      <th>size_bytes</th>\n",
       "      <th>price</th>\n",
       "      <th>user_rating</th>\n",
       "      <th>sup_devices.num</th>\n",
       "      <th>lang.num</th>\n",
       "    </tr>\n",
       "  </thead>\n",
       "  <tbody>\n",
       "    <tr>\n",
       "      <th>count</th>\n",
       "      <td>3141.000000</td>\n",
       "      <td>3.141000e+03</td>\n",
       "      <td>3.141000e+03</td>\n",
       "      <td>3141.000000</td>\n",
       "      <td>3141.000000</td>\n",
       "      <td>3141.000000</td>\n",
       "      <td>3141.000000</td>\n",
       "    </tr>\n",
       "    <tr>\n",
       "      <th>mean</th>\n",
       "      <td>4238.946195</td>\n",
       "      <td>8.166003e+08</td>\n",
       "      <td>2.652478e+08</td>\n",
       "      <td>3.955298</td>\n",
       "      <td>3.720949</td>\n",
       "      <td>37.276027</td>\n",
       "      <td>5.050621</td>\n",
       "    </tr>\n",
       "    <tr>\n",
       "      <th>std</th>\n",
       "      <td>3042.399929</td>\n",
       "      <td>2.802664e+08</td>\n",
       "      <td>4.812326e+08</td>\n",
       "      <td>8.315882</td>\n",
       "      <td>1.311471</td>\n",
       "      <td>4.553283</td>\n",
       "      <td>7.075142</td>\n",
       "    </tr>\n",
       "    <tr>\n",
       "      <th>min</th>\n",
       "      <td>1.000000</td>\n",
       "      <td>2.816565e+08</td>\n",
       "      <td>5.898240e+05</td>\n",
       "      <td>0.990000</td>\n",
       "      <td>0.000000</td>\n",
       "      <td>11.000000</td>\n",
       "      <td>0.000000</td>\n",
       "    </tr>\n",
       "    <tr>\n",
       "      <th>25%</th>\n",
       "      <td>1671.000000</td>\n",
       "      <td>5.456238e+08</td>\n",
       "      <td>3.694285e+07</td>\n",
       "      <td>1.990000</td>\n",
       "      <td>3.500000</td>\n",
       "      <td>37.000000</td>\n",
       "      <td>1.000000</td>\n",
       "    </tr>\n",
       "    <tr>\n",
       "      <th>50%</th>\n",
       "      <td>3611.000000</td>\n",
       "      <td>9.221999e+08</td>\n",
       "      <td>9.229107e+07</td>\n",
       "      <td>2.990000</td>\n",
       "      <td>4.000000</td>\n",
       "      <td>38.000000</td>\n",
       "      <td>1.000000</td>\n",
       "    </tr>\n",
       "    <tr>\n",
       "      <th>75%</th>\n",
       "      <td>6461.000000</td>\n",
       "      <td>1.067146e+09</td>\n",
       "      <td>2.335140e+08</td>\n",
       "      <td>4.990000</td>\n",
       "      <td>4.500000</td>\n",
       "      <td>40.000000</td>\n",
       "      <td>7.000000</td>\n",
       "    </tr>\n",
       "    <tr>\n",
       "      <th>max</th>\n",
       "      <td>11087.000000</td>\n",
       "      <td>1.187780e+09</td>\n",
       "      <td>4.025970e+09</td>\n",
       "      <td>299.990000</td>\n",
       "      <td>5.000000</td>\n",
       "      <td>47.000000</td>\n",
       "      <td>58.000000</td>\n",
       "    </tr>\n",
       "  </tbody>\n",
       "</table>\n",
       "</div>"
      ],
      "text/plain": [
       "         Unnamed: 0            id    size_bytes        price  user_rating  \\\n",
       "count   3141.000000  3.141000e+03  3.141000e+03  3141.000000  3141.000000   \n",
       "mean    4238.946195  8.166003e+08  2.652478e+08     3.955298     3.720949   \n",
       "std     3042.399929  2.802664e+08  4.812326e+08     8.315882     1.311471   \n",
       "min        1.000000  2.816565e+08  5.898240e+05     0.990000     0.000000   \n",
       "25%     1671.000000  5.456238e+08  3.694285e+07     1.990000     3.500000   \n",
       "50%     3611.000000  9.221999e+08  9.229107e+07     2.990000     4.000000   \n",
       "75%     6461.000000  1.067146e+09  2.335140e+08     4.990000     4.500000   \n",
       "max    11087.000000  1.187780e+09  4.025970e+09   299.990000     5.000000   \n",
       "\n",
       "       sup_devices.num     lang.num  \n",
       "count      3141.000000  3141.000000  \n",
       "mean         37.276027     5.050621  \n",
       "std           4.553283     7.075142  \n",
       "min          11.000000     0.000000  \n",
       "25%          37.000000     1.000000  \n",
       "50%          38.000000     1.000000  \n",
       "75%          40.000000     7.000000  \n",
       "max          47.000000    58.000000  "
      ]
     },
     "execution_count": 337,
     "metadata": {},
     "output_type": "execute_result"
    }
   ],
   "source": [
    "# Find only APPS with price is not equal to zero.\n",
    "df_ch = df.loc[(df['price'] != 0)]\n",
    "df_ch.describe()"
   ]
  },
  {
   "cell_type": "code",
   "execution_count": 338,
   "metadata": {
    "slideshow": {
     "slide_type": "skip"
    }
   },
   "outputs": [],
   "source": [
    "#Create a query with only Genre is Games\n",
    "df_games= df_ch.query('prime_genre == \"Games\"')"
   ]
  },
  {
   "cell_type": "code",
   "execution_count": 339,
   "metadata": {
    "slideshow": {
     "slide_type": "subslide"
    }
   },
   "outputs": [
    {
     "data": {
      "text/plain": [
       "(array([1.026e+03, 3.640e+02, 1.520e+02, 3.600e+01, 1.700e+01, 5.000e+00,\n",
       "        3.000e+00, 0.000e+00, 1.000e+00, 1.000e+00]),\n",
       " array([ 0.99,  3.89,  6.79,  9.69, 12.59, 15.49, 18.39, 21.29, 24.19,\n",
       "        27.09, 29.99]),\n",
       " <a list of 10 Patch objects>)"
      ]
     },
     "execution_count": 339,
     "metadata": {},
     "output_type": "execute_result"
    },
    {
     "data": {
      "image/png": "[encoded data removed]",
      "text/plain": [
       "<Figure size 360x360 with 1 Axes>"
      ]
     },
     "metadata": {
      "needs_background": "light"
     },
     "output_type": "display_data"
    }
   ],
   "source": [
    "#Define price distribution for Game's APPS.\n",
    "plt.figure(figsize = [5, 5])\n",
    "plt.hist(data = df_games, x = 'price')"
   ]
  },
  {
   "cell_type": "markdown",
   "metadata": {
    "slideshow": {
     "slide_type": "slide"
    }
   },
   "source": [
    "According to the histogram above we could summarize that the game prices are slightly above 0."
   ]
  },
  {
   "cell_type": "markdown",
   "metadata": {
    "slideshow": {
     "slide_type": "slide"
    }
   },
   "source": [
    "### TOP 10 Genre based on the users rating. "
   ]
  },
  {
   "cell_type": "code",
   "execution_count": 340,
   "metadata": {
    "slideshow": {
     "slide_type": "skip"
    }
   },
   "outputs": [
    {
     "data": {
      "text/plain": [
       "prime_genre\n",
       "Book                 2.477679\n",
       "Business             3.745614\n",
       "Catalogs             2.100000\n",
       "Education            3.376380\n",
       "Entertainment        3.246729\n",
       "Finance              2.432692\n",
       "Food & Drink         3.182540\n",
       "Games                3.685008\n",
       "Health & Fitness     3.700000\n",
       "Lifestyle            2.805556\n",
       "Medical              3.369565\n",
       "Music                3.978261\n",
       "Navigation           2.684783\n",
       "News                 2.980000\n",
       "Photo & Video        3.800860\n",
       "Productivity         4.005618\n",
       "Reference            3.453125\n",
       "Shopping             3.540984\n",
       "Social Networking    2.985030\n",
       "Sports               2.982456\n",
       "Travel               3.376543\n",
       "Utilities            3.278226\n",
       "Weather              3.597222\n",
       "Name: user_rating, dtype: float64"
      ]
     },
     "execution_count": 340,
     "metadata": {},
     "output_type": "execute_result"
    }
   ],
   "source": [
    "#I found the mean rating for each Genre.\n",
    "df_top = df.groupby('prime_genre')['user_rating'].mean()\n",
    "df_top"
   ]
  },
  {
   "cell_type": "code",
   "execution_count": 341,
   "metadata": {
    "slideshow": {
     "slide_type": "skip"
    }
   },
   "outputs": [
    {
     "data": {
      "text/plain": [
       "prime_genre\n",
       "Productivity        4.005618\n",
       "Music               3.978261\n",
       "Photo & Video       3.800860\n",
       "Business            3.745614\n",
       "Health & Fitness    3.700000\n",
       "Games               3.685008\n",
       "Weather             3.597222\n",
       "Shopping            3.540984\n",
       "Reference           3.453125\n",
       "Travel              3.376543\n",
       "Name: user_rating, dtype: float64"
      ]
     },
     "execution_count": 341,
     "metadata": {},
     "output_type": "execute_result"
    }
   ],
   "source": [
    "# find the top 10 genre based on their average rating. \n",
    "df_top= df_top.nlargest(10)\n",
    "df_top"
   ]
  },
  {
   "cell_type": "code",
   "execution_count": 342,
   "metadata": {
    "slideshow": {
     "slide_type": "subslide"
    }
   },
   "outputs": [
    {
     "data": {
      "text/plain": [
       "Text(0.5, 1.0, 'Top 10 Genres')"
      ]
     },
     "execution_count": 342,
     "metadata": {},
     "output_type": "execute_result"
    },
    {
     "data": {
      "image/png": "[encoded data removed]",
      "text/plain": [
       "<Figure size 576x576 with 1 Axes>"
      ]
     },
     "metadata": {
      "needs_background": "light"
     },
     "output_type": "display_data"
    }
   ],
   "source": [
    "#Create a barchart for the top 10 genres.\n",
    "# plot Barchart\n",
    "df_top.plot(kind='bar',figsize=(8,8));\n",
    "# title\n",
    "plt.title('Top 10 Genres')"
   ]
  },
  {
   "cell_type": "markdown",
   "metadata": {
    "slideshow": {
     "slide_type": "slide"
    }
   },
   "source": [
    "Despite the fact that Games are the most most popular among the users. Genres of Productivity & Music get higher user's rating than Games. "
   ]
  },
  {
   "cell_type": "markdown",
   "metadata": {
    "slideshow": {
     "slide_type": "slide"
    }
   },
   "source": [
    "<a id='pric'></a>\n",
    "## Bivariate Exploration\n",
    "> In this section, investigate relationships between pairs of variables in your\n",
    "data. Make sure the variables that you cover here have been introduced in some\n",
    "fashion in the previous section (univariate exploration)."
   ]
  },
  {
   "cell_type": "markdown",
   "metadata": {
    "slideshow": {
     "slide_type": "slide"
    }
   },
   "source": [
    "### Genres with the highest sizes measured by bytes"
   ]
  },
  {
   "cell_type": "code",
   "execution_count": 343,
   "metadata": {
    "slideshow": {
     "slide_type": "skip"
    }
   },
   "outputs": [
    {
     "data": {
      "text/plain": [
       "prime_genre\n",
       "Book                 1.788206e+08\n",
       "Business             6.416849e+07\n",
       "Catalogs             5.018163e+07\n",
       "Education            1.804242e+08\n",
       "Entertainment        1.014787e+08\n",
       "Finance              7.823586e+07\n",
       "Food & Drink         7.759500e+07\n",
       "Games                2.836583e+08\n",
       "Health & Fitness     9.010664e+07\n",
       "Lifestyle            6.230647e+07\n",
       "Medical              3.763890e+08\n",
       "Music                1.096356e+08\n",
       "Navigation           1.033545e+08\n",
       "News                 6.247085e+07\n",
       "Photo & Video        6.852190e+07\n",
       "Productivity         7.844064e+07\n",
       "Reference            1.551627e+08\n",
       "Shopping             9.334683e+07\n",
       "Social Networking    7.937244e+07\n",
       "Sports               7.887357e+07\n",
       "Travel               8.270691e+07\n",
       "Utilities            5.429006e+07\n",
       "Weather              6.144138e+07\n",
       "Name: size_bytes, dtype: float64"
      ]
     },
     "execution_count": 343,
     "metadata": {},
     "output_type": "execute_result"
    }
   ],
   "source": [
    "#I found the mean size_bytes for each Genre.\n",
    "df_top2 = df.groupby('prime_genre')['size_bytes'].mean()\n",
    "df_top2"
   ]
  },
  {
   "cell_type": "code",
   "execution_count": 344,
   "metadata": {
    "slideshow": {
     "slide_type": "skip"
    }
   },
   "outputs": [
    {
     "data": {
      "text/plain": [
       "prime_genre\n",
       "Productivity        4.005618\n",
       "Music               3.978261\n",
       "Photo & Video       3.800860\n",
       "Business            3.745614\n",
       "Health & Fitness    3.700000\n",
       "Name: user_rating, dtype: float64"
      ]
     },
     "execution_count": 344,
     "metadata": {},
     "output_type": "execute_result"
    }
   ],
   "source": [
    "# find the top 10 genre based on their size_bytes. \n",
    "df_top2= df_top.nlargest(5)\n",
    "df_top2"
   ]
  },
  {
   "cell_type": "code",
   "execution_count": 345,
   "metadata": {
    "slideshow": {
     "slide_type": "subslide"
    }
   },
   "outputs": [
    {
     "data": {
      "text/plain": [
       "Text(0.5, 1.0, 'Top 5 Apps with the highest storage capacity')"
      ]
     },
     "execution_count": 345,
     "metadata": {},
     "output_type": "execute_result"
    },
    {
     "data": {
      "image/png": "[encoded data removed]",
      "text/plain": [
       "<Figure size 576x576 with 1 Axes>"
      ]
     },
     "metadata": {},
     "output_type": "display_data"
    }
   ],
   "source": [
    "# code for the pie chart seen above\n",
    "#Create a piechart for the top 5 genres with highest size_bytes.\n",
    "# plot piechart\n",
    "df_top2.plot(kind='pie',figsize=(8,8));\n",
    "# title\n",
    "plt.title('Top 5 Apps with the highest storage capacity')"
   ]
  },
  {
   "cell_type": "markdown",
   "metadata": {
    "slideshow": {
     "slide_type": "slide"
    }
   },
   "source": [
    "According to the above chart Medical APPS occupy the highest mobile storage capacity."
   ]
  },
  {
   "cell_type": "markdown",
   "metadata": {
    "slideshow": {
     "slide_type": "slide"
    }
   },
   "source": [
    "### Violin plot based on top 5 APPS highest mobile Apps storage capacity\n",
    "After finding the top 5 APPS highest mobile Apps storage capacity I will find the distribution of size bytes for each genre."
   ]
  },
  {
   "cell_type": "code",
   "execution_count": 346,
   "metadata": {
    "slideshow": {
     "slide_type": "skip"
    }
   },
   "outputs": [
    {
     "data": {
      "text/html": [
       "<div>\n",
       "<style scoped>\n",
       "    .dataframe tbody tr th:only-of-type {\n",
       "        vertical-align: middle;\n",
       "    }\n",
       "\n",
       "    .dataframe tbody tr th {\n",
       "        vertical-align: top;\n",
       "    }\n",
       "\n",
       "    .dataframe thead th {\n",
       "        text-align: right;\n",
       "    }\n",
       "</style>\n",
       "<table border=\"1\" class=\"dataframe\">\n",
       "  <thead>\n",
       "    <tr style=\"text-align: right;\">\n",
       "      <th></th>\n",
       "      <th>Unnamed: 0</th>\n",
       "      <th>id</th>\n",
       "      <th>size_bytes</th>\n",
       "      <th>price</th>\n",
       "      <th>user_rating</th>\n",
       "      <th>sup_devices.num</th>\n",
       "      <th>lang.num</th>\n",
       "    </tr>\n",
       "  </thead>\n",
       "  <tbody>\n",
       "    <tr>\n",
       "      <th>count</th>\n",
       "      <td>3141.000000</td>\n",
       "      <td>3.141000e+03</td>\n",
       "      <td>3.141000e+03</td>\n",
       "      <td>3141.000000</td>\n",
       "      <td>3141.000000</td>\n",
       "      <td>3141.000000</td>\n",
       "      <td>3141.000000</td>\n",
       "    </tr>\n",
       "    <tr>\n",
       "      <th>mean</th>\n",
       "      <td>4238.946195</td>\n",
       "      <td>8.166003e+08</td>\n",
       "      <td>2.652478e+08</td>\n",
       "      <td>3.955298</td>\n",
       "      <td>3.720949</td>\n",
       "      <td>37.276027</td>\n",
       "      <td>5.050621</td>\n",
       "    </tr>\n",
       "    <tr>\n",
       "      <th>std</th>\n",
       "      <td>3042.399929</td>\n",
       "      <td>2.802664e+08</td>\n",
       "      <td>4.812326e+08</td>\n",
       "      <td>8.315882</td>\n",
       "      <td>1.311471</td>\n",
       "      <td>4.553283</td>\n",
       "      <td>7.075142</td>\n",
       "    </tr>\n",
       "    <tr>\n",
       "      <th>min</th>\n",
       "      <td>1.000000</td>\n",
       "      <td>2.816565e+08</td>\n",
       "      <td>5.898240e+05</td>\n",
       "      <td>0.990000</td>\n",
       "      <td>0.000000</td>\n",
       "      <td>11.000000</td>\n",
       "      <td>0.000000</td>\n",
       "    </tr>\n",
       "    <tr>\n",
       "      <th>25%</th>\n",
       "      <td>1671.000000</td>\n",
       "      <td>5.456238e+08</td>\n",
       "      <td>3.694285e+07</td>\n",
       "      <td>1.990000</td>\n",
       "      <td>3.500000</td>\n",
       "      <td>37.000000</td>\n",
       "      <td>1.000000</td>\n",
       "    </tr>\n",
       "    <tr>\n",
       "      <th>50%</th>\n",
       "      <td>3611.000000</td>\n",
       "      <td>9.221999e+08</td>\n",
       "      <td>9.229107e+07</td>\n",
       "      <td>2.990000</td>\n",
       "      <td>4.000000</td>\n",
       "      <td>38.000000</td>\n",
       "      <td>1.000000</td>\n",
       "    </tr>\n",
       "    <tr>\n",
       "      <th>75%</th>\n",
       "      <td>6461.000000</td>\n",
       "      <td>1.067146e+09</td>\n",
       "      <td>2.335140e+08</td>\n",
       "      <td>4.990000</td>\n",
       "      <td>4.500000</td>\n",
       "      <td>40.000000</td>\n",
       "      <td>7.000000</td>\n",
       "    </tr>\n",
       "    <tr>\n",
       "      <th>max</th>\n",
       "      <td>11087.000000</td>\n",
       "      <td>1.187780e+09</td>\n",
       "      <td>4.025970e+09</td>\n",
       "      <td>299.990000</td>\n",
       "      <td>5.000000</td>\n",
       "      <td>47.000000</td>\n",
       "      <td>58.000000</td>\n",
       "    </tr>\n",
       "  </tbody>\n",
       "</table>\n",
       "</div>"
      ],
      "text/plain": [
       "         Unnamed: 0            id    size_bytes        price  user_rating  \\\n",
       "count   3141.000000  3.141000e+03  3.141000e+03  3141.000000  3141.000000   \n",
       "mean    4238.946195  8.166003e+08  2.652478e+08     3.955298     3.720949   \n",
       "std     3042.399929  2.802664e+08  4.812326e+08     8.315882     1.311471   \n",
       "min        1.000000  2.816565e+08  5.898240e+05     0.990000     0.000000   \n",
       "25%     1671.000000  5.456238e+08  3.694285e+07     1.990000     3.500000   \n",
       "50%     3611.000000  9.221999e+08  9.229107e+07     2.990000     4.000000   \n",
       "75%     6461.000000  1.067146e+09  2.335140e+08     4.990000     4.500000   \n",
       "max    11087.000000  1.187780e+09  4.025970e+09   299.990000     5.000000   \n",
       "\n",
       "       sup_devices.num     lang.num  \n",
       "count      3141.000000  3141.000000  \n",
       "mean         37.276027     5.050621  \n",
       "std           4.553283     7.075142  \n",
       "min          11.000000     0.000000  \n",
       "25%          37.000000     1.000000  \n",
       "50%          38.000000     1.000000  \n",
       "75%          40.000000     7.000000  \n",
       "max          47.000000    58.000000  "
      ]
     },
     "execution_count": 346,
     "metadata": {},
     "output_type": "execute_result"
    }
   ],
   "source": [
    "# Describe the dataset which does not include games with zero cost.\n",
    "df_ch.describe()"
   ]
  },
  {
   "cell_type": "code",
   "execution_count": 347,
   "metadata": {
    "slideshow": {
     "slide_type": "skip"
    }
   },
   "outputs": [
    {
     "data": {
      "text/html": [
       "<div>\n",
       "<style scoped>\n",
       "    .dataframe tbody tr th:only-of-type {\n",
       "        vertical-align: middle;\n",
       "    }\n",
       "\n",
       "    .dataframe tbody tr th {\n",
       "        vertical-align: top;\n",
       "    }\n",
       "\n",
       "    .dataframe thead th {\n",
       "        text-align: right;\n",
       "    }\n",
       "</style>\n",
       "<table border=\"1\" class=\"dataframe\">\n",
       "  <thead>\n",
       "    <tr style=\"text-align: right;\">\n",
       "      <th></th>\n",
       "      <th>Unnamed: 0</th>\n",
       "      <th>id</th>\n",
       "      <th>size_bytes</th>\n",
       "      <th>price</th>\n",
       "      <th>user_rating</th>\n",
       "      <th>sup_devices.num</th>\n",
       "      <th>lang.num</th>\n",
       "    </tr>\n",
       "  </thead>\n",
       "  <tbody>\n",
       "    <tr>\n",
       "      <th>count</th>\n",
       "      <td>3044.000000</td>\n",
       "      <td>3.044000e+03</td>\n",
       "      <td>3.044000e+03</td>\n",
       "      <td>3044.000000</td>\n",
       "      <td>3044.000000</td>\n",
       "      <td>3044.000000</td>\n",
       "      <td>3044.000000</td>\n",
       "    </tr>\n",
       "    <tr>\n",
       "      <th>mean</th>\n",
       "      <td>4252.592641</td>\n",
       "      <td>8.173008e+08</td>\n",
       "      <td>2.512081e+08</td>\n",
       "      <td>3.185138</td>\n",
       "      <td>3.729796</td>\n",
       "      <td>37.351183</td>\n",
       "      <td>5.028909</td>\n",
       "    </tr>\n",
       "    <tr>\n",
       "      <th>std</th>\n",
       "      <td>3051.059043</td>\n",
       "      <td>2.806337e+08</td>\n",
       "      <td>4.541829e+08</td>\n",
       "      <td>2.107222</td>\n",
       "      <td>1.295675</td>\n",
       "      <td>4.462410</td>\n",
       "      <td>7.081597</td>\n",
       "    </tr>\n",
       "    <tr>\n",
       "      <th>min</th>\n",
       "      <td>1.000000</td>\n",
       "      <td>2.816565e+08</td>\n",
       "      <td>5.898240e+05</td>\n",
       "      <td>0.990000</td>\n",
       "      <td>0.000000</td>\n",
       "      <td>11.000000</td>\n",
       "      <td>0.000000</td>\n",
       "    </tr>\n",
       "    <tr>\n",
       "      <th>25%</th>\n",
       "      <td>1675.250000</td>\n",
       "      <td>5.461607e+08</td>\n",
       "      <td>3.600179e+07</td>\n",
       "      <td>1.990000</td>\n",
       "      <td>3.500000</td>\n",
       "      <td>37.000000</td>\n",
       "      <td>1.000000</td>\n",
       "    </tr>\n",
       "    <tr>\n",
       "      <th>50%</th>\n",
       "      <td>3621.000000</td>\n",
       "      <td>9.229678e+08</td>\n",
       "      <td>9.035264e+07</td>\n",
       "      <td>2.990000</td>\n",
       "      <td>4.000000</td>\n",
       "      <td>38.000000</td>\n",
       "      <td>1.000000</td>\n",
       "    </tr>\n",
       "    <tr>\n",
       "      <th>75%</th>\n",
       "      <td>6496.000000</td>\n",
       "      <td>1.067732e+09</td>\n",
       "      <td>2.253709e+08</td>\n",
       "      <td>3.990000</td>\n",
       "      <td>4.500000</td>\n",
       "      <td>40.000000</td>\n",
       "      <td>7.000000</td>\n",
       "    </tr>\n",
       "    <tr>\n",
       "      <th>max</th>\n",
       "      <td>11087.000000</td>\n",
       "      <td>1.187780e+09</td>\n",
       "      <td>4.025970e+09</td>\n",
       "      <td>9.990000</td>\n",
       "      <td>5.000000</td>\n",
       "      <td>47.000000</td>\n",
       "      <td>58.000000</td>\n",
       "    </tr>\n",
       "  </tbody>\n",
       "</table>\n",
       "</div>"
      ],
      "text/plain": [
       "         Unnamed: 0            id    size_bytes        price  user_rating  \\\n",
       "count   3044.000000  3.044000e+03  3.044000e+03  3044.000000  3044.000000   \n",
       "mean    4252.592641  8.173008e+08  2.512081e+08     3.185138     3.729796   \n",
       "std     3051.059043  2.806337e+08  4.541829e+08     2.107222     1.295675   \n",
       "min        1.000000  2.816565e+08  5.898240e+05     0.990000     0.000000   \n",
       "25%     1675.250000  5.461607e+08  3.600179e+07     1.990000     3.500000   \n",
       "50%     3621.000000  9.229678e+08  9.035264e+07     2.990000     4.000000   \n",
       "75%     6496.000000  1.067732e+09  2.253709e+08     3.990000     4.500000   \n",
       "max    11087.000000  1.187780e+09  4.025970e+09     9.990000     5.000000   \n",
       "\n",
       "       sup_devices.num     lang.num  \n",
       "count      3044.000000  3044.000000  \n",
       "mean         37.351183     5.028909  \n",
       "std           4.462410     7.081597  \n",
       "min          11.000000     0.000000  \n",
       "25%          37.000000     1.000000  \n",
       "50%          38.000000     1.000000  \n",
       "75%          40.000000     7.000000  \n",
       "max          47.000000    58.000000  "
      ]
     },
     "execution_count": 347,
     "metadata": {},
     "output_type": "execute_result"
    }
   ],
   "source": [
    "# In order to get more clear results I dropped just a few values from price column that were outliers .\n",
    "df_out = df_ch.loc[df_ch['price'] < 10]\n",
    "df_out.describe()"
   ]
  },
  {
   "cell_type": "code",
   "execution_count": 348,
   "metadata": {
    "slideshow": {
     "slide_type": "skip"
    }
   },
   "outputs": [
    {
     "name": "stderr",
     "output_type": "stream",
     "text": [
      "C:\\Users\\agouv\\anaconda3\\lib\\site-packages\\ipykernel_launcher.py:4: SettingWithCopyWarning: \n",
      "A value is trying to be set on a copy of a slice from a DataFrame.\n",
      "Try using .loc[row_indexer,col_indexer] = value instead\n",
      "\n",
      "See the caveats in the documentation: https://pandas.pydata.org/pandas-docs/stable/user_guide/indexing.html#returning-a-view-versus-a-copy\n",
      "  after removing the cwd from sys.path.\n"
     ]
    }
   ],
   "source": [
    "#Select specific genres for   based on the APPS with the highest storage capacity (size_bytes).\n",
    "classes =['Productivity','Music','Photo & Video','Business','Health & Fitness']\n",
    "genres = pd.api.types.CategoricalDtype(ordered=True,categories=classes)\n",
    "df_out['prime_genre'] = df_out['prime_genre'].astype(genres)"
   ]
  },
  {
   "cell_type": "code",
   "execution_count": 349,
   "metadata": {
    "slideshow": {
     "slide_type": "subslide"
    }
   },
   "outputs": [
    {
     "data": {
      "text/plain": [
       "<matplotlib.axes._subplots.AxesSubplot at 0x2d84a226308>"
      ]
     },
     "execution_count": 349,
     "metadata": {},
     "output_type": "execute_result"
    },
    {
     "data": {
      "image/png": "[encoded data removed]",
      "text/plain": [
       "<Figure size 432x288 with 1 Axes>"
      ]
     },
     "metadata": {
      "needs_background": "light"
     },
     "output_type": "display_data"
    }
   ],
   "source": [
    "# Create violin plot for \n",
    "sb.violinplot(data = df_out, x = 'prime_genre', y = 'size_bytes')"
   ]
  },
  {
   "cell_type": "markdown",
   "metadata": {
    "slideshow": {
     "slide_type": "slide"
    }
   },
   "source": [
    "Based on Health & Fitness APPS have the highest size distribution and Bussiness APPS are the most normal distributed. "
   ]
  },
  {
   "cell_type": "markdown",
   "metadata": {
    "slideshow": {
     "slide_type": "slide"
    }
   },
   "source": [
    "### Prices based on Apps Genres."
   ]
  },
  {
   "cell_type": "code",
   "execution_count": 350,
   "metadata": {
    "slideshow": {
     "slide_type": "skip"
    }
   },
   "outputs": [
    {
     "data": {
      "text/html": [
       "<div>\n",
       "<style scoped>\n",
       "    .dataframe tbody tr th:only-of-type {\n",
       "        vertical-align: middle;\n",
       "    }\n",
       "\n",
       "    .dataframe tbody tr th {\n",
       "        vertical-align: top;\n",
       "    }\n",
       "\n",
       "    .dataframe thead th {\n",
       "        text-align: right;\n",
       "    }\n",
       "</style>\n",
       "<table border=\"1\" class=\"dataframe\">\n",
       "  <thead>\n",
       "    <tr style=\"text-align: right;\">\n",
       "      <th></th>\n",
       "      <th>Unnamed: 0</th>\n",
       "      <th>id</th>\n",
       "      <th>size_bytes</th>\n",
       "      <th>price</th>\n",
       "      <th>user_rating</th>\n",
       "      <th>sup_devices.num</th>\n",
       "      <th>lang.num</th>\n",
       "    </tr>\n",
       "  </thead>\n",
       "  <tbody>\n",
       "    <tr>\n",
       "      <th>count</th>\n",
       "      <td>3141.000000</td>\n",
       "      <td>3.141000e+03</td>\n",
       "      <td>3.141000e+03</td>\n",
       "      <td>3141.000000</td>\n",
       "      <td>3141.000000</td>\n",
       "      <td>3141.000000</td>\n",
       "      <td>3141.000000</td>\n",
       "    </tr>\n",
       "    <tr>\n",
       "      <th>mean</th>\n",
       "      <td>4238.946195</td>\n",
       "      <td>8.166003e+08</td>\n",
       "      <td>2.652478e+08</td>\n",
       "      <td>3.955298</td>\n",
       "      <td>3.720949</td>\n",
       "      <td>37.276027</td>\n",
       "      <td>5.050621</td>\n",
       "    </tr>\n",
       "    <tr>\n",
       "      <th>std</th>\n",
       "      <td>3042.399929</td>\n",
       "      <td>2.802664e+08</td>\n",
       "      <td>4.812326e+08</td>\n",
       "      <td>8.315882</td>\n",
       "      <td>1.311471</td>\n",
       "      <td>4.553283</td>\n",
       "      <td>7.075142</td>\n",
       "    </tr>\n",
       "    <tr>\n",
       "      <th>min</th>\n",
       "      <td>1.000000</td>\n",
       "      <td>2.816565e+08</td>\n",
       "      <td>5.898240e+05</td>\n",
       "      <td>0.990000</td>\n",
       "      <td>0.000000</td>\n",
       "      <td>11.000000</td>\n",
       "      <td>0.000000</td>\n",
       "    </tr>\n",
       "    <tr>\n",
       "      <th>25%</th>\n",
       "      <td>1671.000000</td>\n",
       "      <td>5.456238e+08</td>\n",
       "      <td>3.694285e+07</td>\n",
       "      <td>1.990000</td>\n",
       "      <td>3.500000</td>\n",
       "      <td>37.000000</td>\n",
       "      <td>1.000000</td>\n",
       "    </tr>\n",
       "    <tr>\n",
       "      <th>50%</th>\n",
       "      <td>3611.000000</td>\n",
       "      <td>9.221999e+08</td>\n",
       "      <td>9.229107e+07</td>\n",
       "      <td>2.990000</td>\n",
       "      <td>4.000000</td>\n",
       "      <td>38.000000</td>\n",
       "      <td>1.000000</td>\n",
       "    </tr>\n",
       "    <tr>\n",
       "      <th>75%</th>\n",
       "      <td>6461.000000</td>\n",
       "      <td>1.067146e+09</td>\n",
       "      <td>2.335140e+08</td>\n",
       "      <td>4.990000</td>\n",
       "      <td>4.500000</td>\n",
       "      <td>40.000000</td>\n",
       "      <td>7.000000</td>\n",
       "    </tr>\n",
       "    <tr>\n",
       "      <th>max</th>\n",
       "      <td>11087.000000</td>\n",
       "      <td>1.187780e+09</td>\n",
       "      <td>4.025970e+09</td>\n",
       "      <td>299.990000</td>\n",
       "      <td>5.000000</td>\n",
       "      <td>47.000000</td>\n",
       "      <td>58.000000</td>\n",
       "    </tr>\n",
       "  </tbody>\n",
       "</table>\n",
       "</div>"
      ],
      "text/plain": [
       "         Unnamed: 0            id    size_bytes        price  user_rating  \\\n",
       "count   3141.000000  3.141000e+03  3.141000e+03  3141.000000  3141.000000   \n",
       "mean    4238.946195  8.166003e+08  2.652478e+08     3.955298     3.720949   \n",
       "std     3042.399929  2.802664e+08  4.812326e+08     8.315882     1.311471   \n",
       "min        1.000000  2.816565e+08  5.898240e+05     0.990000     0.000000   \n",
       "25%     1671.000000  5.456238e+08  3.694285e+07     1.990000     3.500000   \n",
       "50%     3611.000000  9.221999e+08  9.229107e+07     2.990000     4.000000   \n",
       "75%     6461.000000  1.067146e+09  2.335140e+08     4.990000     4.500000   \n",
       "max    11087.000000  1.187780e+09  4.025970e+09   299.990000     5.000000   \n",
       "\n",
       "       sup_devices.num     lang.num  \n",
       "count      3141.000000  3141.000000  \n",
       "mean         37.276027     5.050621  \n",
       "std           4.553283     7.075142  \n",
       "min          11.000000     0.000000  \n",
       "25%          37.000000     1.000000  \n",
       "50%          38.000000     1.000000  \n",
       "75%          40.000000     7.000000  \n",
       "max          47.000000    58.000000  "
      ]
     },
     "execution_count": 350,
     "metadata": {},
     "output_type": "execute_result"
    }
   ],
   "source": [
    "# Describe the dataset which does not include games with zero cost.\n",
    "df_ch.describe()"
   ]
  },
  {
   "cell_type": "code",
   "execution_count": 351,
   "metadata": {
    "slideshow": {
     "slide_type": "skip"
    }
   },
   "outputs": [
    {
     "data": {
      "text/html": [
       "<div>\n",
       "<style scoped>\n",
       "    .dataframe tbody tr th:only-of-type {\n",
       "        vertical-align: middle;\n",
       "    }\n",
       "\n",
       "    .dataframe tbody tr th {\n",
       "        vertical-align: top;\n",
       "    }\n",
       "\n",
       "    .dataframe thead th {\n",
       "        text-align: right;\n",
       "    }\n",
       "</style>\n",
       "<table border=\"1\" class=\"dataframe\">\n",
       "  <thead>\n",
       "    <tr style=\"text-align: right;\">\n",
       "      <th></th>\n",
       "      <th>Unnamed: 0</th>\n",
       "      <th>id</th>\n",
       "      <th>size_bytes</th>\n",
       "      <th>price</th>\n",
       "      <th>user_rating</th>\n",
       "      <th>sup_devices.num</th>\n",
       "      <th>lang.num</th>\n",
       "    </tr>\n",
       "  </thead>\n",
       "  <tbody>\n",
       "    <tr>\n",
       "      <th>count</th>\n",
       "      <td>3044.000000</td>\n",
       "      <td>3.044000e+03</td>\n",
       "      <td>3.044000e+03</td>\n",
       "      <td>3044.000000</td>\n",
       "      <td>3044.000000</td>\n",
       "      <td>3044.000000</td>\n",
       "      <td>3044.000000</td>\n",
       "    </tr>\n",
       "    <tr>\n",
       "      <th>mean</th>\n",
       "      <td>4252.592641</td>\n",
       "      <td>8.173008e+08</td>\n",
       "      <td>2.512081e+08</td>\n",
       "      <td>3.185138</td>\n",
       "      <td>3.729796</td>\n",
       "      <td>37.351183</td>\n",
       "      <td>5.028909</td>\n",
       "    </tr>\n",
       "    <tr>\n",
       "      <th>std</th>\n",
       "      <td>3051.059043</td>\n",
       "      <td>2.806337e+08</td>\n",
       "      <td>4.541829e+08</td>\n",
       "      <td>2.107222</td>\n",
       "      <td>1.295675</td>\n",
       "      <td>4.462410</td>\n",
       "      <td>7.081597</td>\n",
       "    </tr>\n",
       "    <tr>\n",
       "      <th>min</th>\n",
       "      <td>1.000000</td>\n",
       "      <td>2.816565e+08</td>\n",
       "      <td>5.898240e+05</td>\n",
       "      <td>0.990000</td>\n",
       "      <td>0.000000</td>\n",
       "      <td>11.000000</td>\n",
       "      <td>0.000000</td>\n",
       "    </tr>\n",
       "    <tr>\n",
       "      <th>25%</th>\n",
       "      <td>1675.250000</td>\n",
       "      <td>5.461607e+08</td>\n",
       "      <td>3.600179e+07</td>\n",
       "      <td>1.990000</td>\n",
       "      <td>3.500000</td>\n",
       "      <td>37.000000</td>\n",
       "      <td>1.000000</td>\n",
       "    </tr>\n",
       "    <tr>\n",
       "      <th>50%</th>\n",
       "      <td>3621.000000</td>\n",
       "      <td>9.229678e+08</td>\n",
       "      <td>9.035264e+07</td>\n",
       "      <td>2.990000</td>\n",
       "      <td>4.000000</td>\n",
       "      <td>38.000000</td>\n",
       "      <td>1.000000</td>\n",
       "    </tr>\n",
       "    <tr>\n",
       "      <th>75%</th>\n",
       "      <td>6496.000000</td>\n",
       "      <td>1.067732e+09</td>\n",
       "      <td>2.253709e+08</td>\n",
       "      <td>3.990000</td>\n",
       "      <td>4.500000</td>\n",
       "      <td>40.000000</td>\n",
       "      <td>7.000000</td>\n",
       "    </tr>\n",
       "    <tr>\n",
       "      <th>max</th>\n",
       "      <td>11087.000000</td>\n",
       "      <td>1.187780e+09</td>\n",
       "      <td>4.025970e+09</td>\n",
       "      <td>9.990000</td>\n",
       "      <td>5.000000</td>\n",
       "      <td>47.000000</td>\n",
       "      <td>58.000000</td>\n",
       "    </tr>\n",
       "  </tbody>\n",
       "</table>\n",
       "</div>"
      ],
      "text/plain": [
       "         Unnamed: 0            id    size_bytes        price  user_rating  \\\n",
       "count   3044.000000  3.044000e+03  3.044000e+03  3044.000000  3044.000000   \n",
       "mean    4252.592641  8.173008e+08  2.512081e+08     3.185138     3.729796   \n",
       "std     3051.059043  2.806337e+08  4.541829e+08     2.107222     1.295675   \n",
       "min        1.000000  2.816565e+08  5.898240e+05     0.990000     0.000000   \n",
       "25%     1675.250000  5.461607e+08  3.600179e+07     1.990000     3.500000   \n",
       "50%     3621.000000  9.229678e+08  9.035264e+07     2.990000     4.000000   \n",
       "75%     6496.000000  1.067732e+09  2.253709e+08     3.990000     4.500000   \n",
       "max    11087.000000  1.187780e+09  4.025970e+09     9.990000     5.000000   \n",
       "\n",
       "       sup_devices.num     lang.num  \n",
       "count      3044.000000  3044.000000  \n",
       "mean         37.351183     5.028909  \n",
       "std           4.462410     7.081597  \n",
       "min          11.000000     0.000000  \n",
       "25%          37.000000     1.000000  \n",
       "50%          38.000000     1.000000  \n",
       "75%          40.000000     7.000000  \n",
       "max          47.000000    58.000000  "
      ]
     },
     "execution_count": 351,
     "metadata": {},
     "output_type": "execute_result"
    }
   ],
   "source": [
    "# In order to get more clear results I dropped just a few values from price column that were outliers .\n",
    "df_out = df_ch.loc[df_ch['price'] < 10]\n",
    "df_out.describe()"
   ]
  },
  {
   "cell_type": "code",
   "execution_count": 352,
   "metadata": {},
   "outputs": [
    {
     "name": "stderr",
     "output_type": "stream",
     "text": [
      "C:\\Users\\agouv\\anaconda3\\lib\\site-packages\\ipykernel_launcher.py:4: SettingWithCopyWarning: \n",
      "A value is trying to be set on a copy of a slice from a DataFrame.\n",
      "Try using .loc[row_indexer,col_indexer] = value instead\n",
      "\n",
      "See the caveats in the documentation: https://pandas.pydata.org/pandas-docs/stable/user_guide/indexing.html#returning-a-view-versus-a-copy\n",
      "  after removing the cwd from sys.path.\n"
     ]
    }
   ],
   "source": [
    "#Select specific genres for price comparison.\n",
    "classes =['Games','Education','Health & Fitness','Entertainment']\n",
    "genres = pd.api.types.CategoricalDtype(ordered=True,categories=classes)\n",
    "df_out['prime_genre'] = df_out['prime_genre'].astype(genres)"
   ]
  },
  {
   "cell_type": "code",
   "execution_count": 353,
   "metadata": {},
   "outputs": [
    {
     "data": {
      "image/png": "[encoded data removed]",
      "text/plain": [
       "<Figure size 360x360 with 1 Axes>"
      ]
     },
     "metadata": {
      "needs_background": "light"
     },
     "output_type": "display_data"
    }
   ],
   "source": [
    "# Create box plot\n",
    "plt.figure(figsize = [5, 5])\n",
    "base_color = sb.color_palette()[0]\n",
    "sb.boxplot(data = df_out, x = 'prime_genre', y = 'price', color = base_color)\n",
    "# Rotate the labels.\n",
    "plt.xticks(rotation=15);\n"
   ]
  },
  {
   "cell_type": "markdown",
   "metadata": {},
   "source": [
    "The above boxplot indicate as that games have the highest price while Enterainment apps charge the less.Moreove,the average prices of (Games,Education,Health & Fitness) have quit similar value."
   ]
  },
  {
   "cell_type": "markdown",
   "metadata": {},
   "source": [
    "<a id='pricc'></a>\n",
    "## Multivariate Exploration.\n",
    "> Create plots of three or more variables to investigate your data even\n",
    "further. Make sure that your investigations are justified, and follow from\n",
    "your work in the previous sections."
   ]
  },
  {
   "cell_type": "markdown",
   "metadata": {},
   "source": [
    "### Multiple  Correlation.\n",
    "The below process indicate as the coefficient of values in multiple correlation format."
   ]
  },
  {
   "cell_type": "code",
   "execution_count": 356,
   "metadata": {},
   "outputs": [],
   "source": [
    "#Create a list with different quantitative variables.\n",
    "vars = ['price', 'user_rating', 'sup_devices.num','size_bytes']"
   ]
  },
  {
   "cell_type": "code",
   "execution_count": 357,
   "metadata": {},
   "outputs": [
    {
     "data": {
      "image/png": "[encoded data removed]",
      "text/plain": [
       "<Figure size 576x360 with 2 Axes>"
      ]
     },
     "metadata": {
      "needs_background": "light"
     },
     "output_type": "display_data"
    }
   ],
   "source": [
    "# correlation for 'price', 'user_rating', 'sup_devices.num','size_bytes'\n",
    "plt.figure(figsize = [8, 5])\n",
    "sb.heatmap(df_ch[vars].corr(), annot = True, fmt = '.4f',\n",
    "           cmap = 'vlag_r', center = 0)\n",
    "plt.show()"
   ]
  },
  {
   "cell_type": "markdown",
   "metadata": {},
   "source": [
    "In the above Heatmap  we can compare the correlation between the variables (price', 'user_rating', 'sup_devices.num','size_bytes'). An unexpected finding is that there is a negative correlation between the price and the number of supported devices. That means that an App which could be supported by different types of devices is not so expensive than other which is supported by less.   "
   ]
  }
 ],
 "metadata": {
  "celltoolbar": "Slideshow",
  "kernelspec": {
   "display_name": "Python 3",
   "language": "python",
   "name": "python3"
  },
  "language_info": {
   "codemirror_mode": {
    "name": "ipython",
    "version": 3
   },
   "file_extension": ".py",
   "mimetype": "text/x-python",
   "name": "python",
   "nbconvert_exporter": "python",
   "pygments_lexer": "ipython3",
   "version": "3.7.7"
  }
 },
 "nbformat": 4,
 "nbformat_minor": 2
}
